{
 "cells": [
  {
   "cell_type": "code",
   "execution_count": 1,
   "id": "f2305d46",
   "metadata": {},
   "outputs": [],
   "source": [
    "#verimizi okumak için gerekli kütüphaneleri import ediyoruz\n",
    "import pandas as pd\n",
    "import numpy as np"
   ]
  },
  {
   "cell_type": "raw",
   "id": "4b2ca557",
   "metadata": {},
   "source": [
    "Problem:Bir elektrik santralinden yaklaşık ne kadar elektrik çıkış olduğunu Isı, Egzoz Vakumu, Ortam Basıncı ve Nem değerlerine göre hesaplamaya tahmin etmeye çalışıyoruz.\n",
    "Veri seti, santralin tam yükte çalışmaya ayarlandığı 6 yıl boyunca (2006-2011) Kombine Çevrim Elektrik Santrali'nden toplanan 9568 veri noktasını içermektedir. \n",
    "Kombine çevrim enerji santrali , gaz türbinleri , buhar türbinleri ve ısı geri kazanımlı buhar jeneratörlerinden oluşur.\n",
    " Bir santralde elektrik, tek bir çevrimde birleştirilen gaz ve buhar türbinleri tarafından üretilir ve bir türbinden diğerine aktarılır. Vakum, Buhar Türbinini etkilerken, diğer üç ortam değişkeni de gaz türbinlerinin performansını etkilemektedir."
   ]
  },
  {
   "cell_type": "code",
   "execution_count": 2,
   "id": "2b5304bb",
   "metadata": {},
   "outputs": [
    {
     "data": {
      "text/html": [
       "<div>\n",
       "<style scoped>\n",
       "    .dataframe tbody tr th:only-of-type {\n",
       "        vertical-align: middle;\n",
       "    }\n",
       "\n",
       "    .dataframe tbody tr th {\n",
       "        vertical-align: top;\n",
       "    }\n",
       "\n",
       "    .dataframe thead th {\n",
       "        text-align: right;\n",
       "    }\n",
       "</style>\n",
       "<table border=\"1\" class=\"dataframe\">\n",
       "  <thead>\n",
       "    <tr style=\"text-align: right;\">\n",
       "      <th></th>\n",
       "      <th>Temperature(°C)</th>\n",
       "      <th>Exhaust_Vacuum(Hectogram)</th>\n",
       "      <th>Ambient_Pressure(milibar)</th>\n",
       "      <th>Relative_Humidity(%)</th>\n",
       "      <th>electrical_energy_output(MegaWatt)</th>\n",
       "    </tr>\n",
       "  </thead>\n",
       "  <tbody>\n",
       "    <tr>\n",
       "      <th>0</th>\n",
       "      <td>14.96</td>\n",
       "      <td>41.76</td>\n",
       "      <td>1024.07</td>\n",
       "      <td>73.17</td>\n",
       "      <td>463.26</td>\n",
       "    </tr>\n",
       "    <tr>\n",
       "      <th>1</th>\n",
       "      <td>25.18</td>\n",
       "      <td>62.96</td>\n",
       "      <td>1020.04</td>\n",
       "      <td>59.08</td>\n",
       "      <td>444.37</td>\n",
       "    </tr>\n",
       "    <tr>\n",
       "      <th>2</th>\n",
       "      <td>5.11</td>\n",
       "      <td>39.40</td>\n",
       "      <td>1012.16</td>\n",
       "      <td>92.14</td>\n",
       "      <td>488.56</td>\n",
       "    </tr>\n",
       "    <tr>\n",
       "      <th>3</th>\n",
       "      <td>20.86</td>\n",
       "      <td>57.32</td>\n",
       "      <td>1010.24</td>\n",
       "      <td>76.64</td>\n",
       "      <td>446.48</td>\n",
       "    </tr>\n",
       "    <tr>\n",
       "      <th>4</th>\n",
       "      <td>10.82</td>\n",
       "      <td>37.50</td>\n",
       "      <td>1009.23</td>\n",
       "      <td>96.62</td>\n",
       "      <td>473.90</td>\n",
       "    </tr>\n",
       "    <tr>\n",
       "      <th>...</th>\n",
       "      <td>...</td>\n",
       "      <td>...</td>\n",
       "      <td>...</td>\n",
       "      <td>...</td>\n",
       "      <td>...</td>\n",
       "    </tr>\n",
       "    <tr>\n",
       "      <th>9563</th>\n",
       "      <td>16.65</td>\n",
       "      <td>49.69</td>\n",
       "      <td>1014.01</td>\n",
       "      <td>91.00</td>\n",
       "      <td>460.03</td>\n",
       "    </tr>\n",
       "    <tr>\n",
       "      <th>9564</th>\n",
       "      <td>13.19</td>\n",
       "      <td>39.18</td>\n",
       "      <td>1023.67</td>\n",
       "      <td>66.78</td>\n",
       "      <td>469.62</td>\n",
       "    </tr>\n",
       "    <tr>\n",
       "      <th>9565</th>\n",
       "      <td>31.32</td>\n",
       "      <td>74.33</td>\n",
       "      <td>1012.92</td>\n",
       "      <td>36.48</td>\n",
       "      <td>429.57</td>\n",
       "    </tr>\n",
       "    <tr>\n",
       "      <th>9566</th>\n",
       "      <td>24.48</td>\n",
       "      <td>69.45</td>\n",
       "      <td>1013.86</td>\n",
       "      <td>62.39</td>\n",
       "      <td>435.74</td>\n",
       "    </tr>\n",
       "    <tr>\n",
       "      <th>9567</th>\n",
       "      <td>21.60</td>\n",
       "      <td>62.52</td>\n",
       "      <td>1017.23</td>\n",
       "      <td>67.87</td>\n",
       "      <td>453.28</td>\n",
       "    </tr>\n",
       "  </tbody>\n",
       "</table>\n",
       "<p>9568 rows × 5 columns</p>\n",
       "</div>"
      ],
      "text/plain": [
       "      Temperature(°C)  Exhaust_Vacuum(Hectogram)  Ambient_Pressure(milibar)  \\\n",
       "0               14.96                      41.76                    1024.07   \n",
       "1               25.18                      62.96                    1020.04   \n",
       "2                5.11                      39.40                    1012.16   \n",
       "3               20.86                      57.32                    1010.24   \n",
       "4               10.82                      37.50                    1009.23   \n",
       "...               ...                        ...                        ...   \n",
       "9563            16.65                      49.69                    1014.01   \n",
       "9564            13.19                      39.18                    1023.67   \n",
       "9565            31.32                      74.33                    1012.92   \n",
       "9566            24.48                      69.45                    1013.86   \n",
       "9567            21.60                      62.52                    1017.23   \n",
       "\n",
       "      Relative_Humidity(%)  electrical_energy_output(MegaWatt)  \n",
       "0                    73.17                              463.26  \n",
       "1                    59.08                              444.37  \n",
       "2                    92.14                              488.56  \n",
       "3                    76.64                              446.48  \n",
       "4                    96.62                              473.90  \n",
       "...                    ...                                 ...  \n",
       "9563                 91.00                              460.03  \n",
       "9564                 66.78                              469.62  \n",
       "9565                 36.48                              429.57  \n",
       "9566                 62.39                              435.74  \n",
       "9567                 67.87                              453.28  \n",
       "\n",
       "[9568 rows x 5 columns]"
      ]
     },
     "execution_count": 2,
     "metadata": {},
     "output_type": "execute_result"
    }
   ],
   "source": [
    "#verilerimizi okutuyoruz\n",
    "df= pd.read_excel(\"Folds5x2_pp.xlsx\")\n",
    "df"
   ]
  },
  {
   "cell_type": "code",
   "execution_count": 3,
   "id": "d83c2dc3",
   "metadata": {},
   "outputs": [],
   "source": [
    "#elektrik çıkışı hariç diğer değerler elektrik çıkışını tahmin etmemize yarayacak\n",
    "#yani bunlar bağımsız değişkenlerimiz olacak bu yüzden x düzleminden electrik çıkışı sütununu çıkarıyoruz\n",
    "# tahmin etmemiz gereken bağımlı değişkeni (Y) elektrik enerjisi çıkışı olarak belirliyoruz\n",
    "x=df.drop(['electrical_energy_output(MegaWatt)'],axis=1).values\n",
    "y=df[('electrical_energy_output(MegaWatt)')].values"
   ]
  },
  {
   "cell_type": "code",
   "execution_count": 4,
   "id": "45cec3c2",
   "metadata": {},
   "outputs": [
    {
     "name": "stdout",
     "output_type": "stream",
     "text": [
      "[[  14.96   41.76 1024.07   73.17]\n",
      " [  25.18   62.96 1020.04   59.08]\n",
      " [   5.11   39.4  1012.16   92.14]\n",
      " ...\n",
      " [  31.32   74.33 1012.92   36.48]\n",
      " [  24.48   69.45 1013.86   62.39]\n",
      " [  21.6    62.52 1017.23   67.87]]\n"
     ]
    }
   ],
   "source": [
    "print(x)"
   ]
  },
  {
   "cell_type": "code",
   "execution_count": 5,
   "id": "5a8948d9",
   "metadata": {},
   "outputs": [
    {
     "name": "stdout",
     "output_type": "stream",
     "text": [
      "[463.26 444.37 488.56 ... 429.57 435.74 453.28]\n"
     ]
    }
   ],
   "source": [
    "print(y)\n",
    "# x ve y değerlerini içi doldu mu diye kontrol ediyoruz"
   ]
  },
  {
   "cell_type": "code",
   "execution_count": 6,
   "id": "3324a4ff",
   "metadata": {},
   "outputs": [],
   "source": [
    "# modelin verimizden öğrenmesi ve test etmesi için verimizi bölüyoruz\n",
    "from sklearn.model_selection import train_test_split\n",
    "x_train,x_test,y_train,y_test = train_test_split(x,y,test_size=0.3,random_state=0)"
   ]
  },
  {
   "cell_type": "code",
   "execution_count": 7,
   "id": "81d280f7",
   "metadata": {},
   "outputs": [
    {
     "data": {
      "text/plain": [
       "LinearRegression()"
      ]
     },
     "execution_count": 7,
     "metadata": {},
     "output_type": "execute_result"
    }
   ],
   "source": [
    "# Scikit Learn Kitaplığından LinearRegression modelini import ediyoruz\n",
    "from sklearn.linear_model import LinearRegression\n",
    "ml=LinearRegression()\n",
    "ml.fit(x_train,y_train)"
   ]
  },
  {
   "cell_type": "code",
   "execution_count": 8,
   "id": "dc0c2482",
   "metadata": {},
   "outputs": [
    {
     "name": "stdout",
     "output_type": "stream",
     "text": [
      "      Actual_Value   Predicton  Error_Value\n",
      "0           463.26  467.348201    -4.088201\n",
      "1           444.37  444.113088     0.256912\n",
      "2           488.56  483.485474     5.074526\n",
      "3           446.48  450.539292    -4.059292\n",
      "4           473.90  471.825208     2.074792\n",
      "...            ...         ...          ...\n",
      "9563        460.03  458.650768     1.379232\n",
      "9564        469.62  472.417037    -2.797037\n",
      "9565        429.57  432.373843    -2.803843\n",
      "9566        435.74  442.991706    -7.251706\n",
      "9567        453.28  449.684667     3.595333\n",
      "\n",
      "[9568 rows x 3 columns]\n"
     ]
    }
   ],
   "source": [
    "#Asıl değer ve bizim tahmin ettiğimiz değeri karşılaştırıyoruz\n",
    "y_pred=ml.predict(x)\n",
    "prediction=pd.DataFrame({\"Actual_Value\":y,\"Predicton\":y_pred}).sort_index()\n",
    "prediction[\"Error_Value\"]=prediction.Actual_Value-prediction.Predicton\n",
    "print(prediction)"
   ]
  },
  {
   "cell_type": "code",
   "execution_count": 9,
   "id": "b0e834b6",
   "metadata": {},
   "outputs": [
    {
     "data": {
      "text/plain": [
       "0.9286886187652481"
      ]
     },
     "execution_count": 9,
     "metadata": {},
     "output_type": "execute_result"
    }
   ],
   "source": [
    "#sklearn.metrics kitaplığından r2_score ile modelimizin performansını ölçüyoruz\n",
    "#R-kare (R^2) skoru, bir regresyon modelinin verilere ne kadar iyi uyduğunu ölçen bir istatistiksel gösterge.\n",
    "#Değer genellikle 0 ile 1 arasında olup, 1'e ne kadar yakınsa, modelin başarıyla verilere uyduğunu gösterir. \n",
    "from sklearn.metrics import r2_score\n",
    "r2_score(y,y_pred)"
   ]
  },
  {
   "cell_type": "code",
   "execution_count": 10,
   "id": "471dba21",
   "metadata": {},
   "outputs": [
    {
     "data": {
      "text/plain": [
       "Text(0.5, 1.0, 'Actual vs. Predicted')"
      ]
     },
     "execution_count": 10,
     "metadata": {},
     "output_type": "execute_result"
    },
    {
     "data": {
      "image/png": "[encoded data removed]",
      "text/plain": [
       "<Figure size 1080x720 with 1 Axes>"
      ]
     },
     "metadata": {
      "needs_background": "light"
     },
     "output_type": "display_data"
    }
   ],
   "source": [
    "#matplotlib kitaplığıyla grafik oluşturuyoruz x eksenine asıl değerleri \n",
    "#y eksenine tahmin ettiğimiz değerleri koyuyoruz\n",
    "import matplotlib.pyplot as plt\n",
    "plt.figure(figsize=(15,10))\n",
    "plt.scatter(y,y_pred)\n",
    "plt.xlabel('Actual')\n",
    "plt.ylabel('Predicted')\n",
    "plt.title('Actual vs. Predicted')"
   ]
  },
  {
   "cell_type": "code",
   "execution_count": 11,
   "id": "922aa2ce",
   "metadata": {},
   "outputs": [
    {
     "data": {
      "text/html": [
       "<div>\n",
       "<style scoped>\n",
       "    .dataframe tbody tr th:only-of-type {\n",
       "        vertical-align: middle;\n",
       "    }\n",
       "\n",
       "    .dataframe tbody tr th {\n",
       "        vertical-align: top;\n",
       "    }\n",
       "\n",
       "    .dataframe thead th {\n",
       "        text-align: right;\n",
       "    }\n",
       "</style>\n",
       "<table border=\"1\" class=\"dataframe\">\n",
       "  <thead>\n",
       "    <tr style=\"text-align: right;\">\n",
       "      <th></th>\n",
       "      <th>Actual Value</th>\n",
       "      <th>Predicted Value</th>\n",
       "      <th>Difference</th>\n",
       "    </tr>\n",
       "  </thead>\n",
       "  <tbody>\n",
       "    <tr>\n",
       "      <th>0</th>\n",
       "      <td>463.26</td>\n",
       "      <td>467.348201</td>\n",
       "      <td>-4.088201</td>\n",
       "    </tr>\n",
       "    <tr>\n",
       "      <th>1</th>\n",
       "      <td>444.37</td>\n",
       "      <td>444.113088</td>\n",
       "      <td>0.256912</td>\n",
       "    </tr>\n",
       "    <tr>\n",
       "      <th>2</th>\n",
       "      <td>488.56</td>\n",
       "      <td>483.485474</td>\n",
       "      <td>5.074526</td>\n",
       "    </tr>\n",
       "    <tr>\n",
       "      <th>3</th>\n",
       "      <td>446.48</td>\n",
       "      <td>450.539292</td>\n",
       "      <td>-4.059292</td>\n",
       "    </tr>\n",
       "    <tr>\n",
       "      <th>4</th>\n",
       "      <td>473.90</td>\n",
       "      <td>471.825208</td>\n",
       "      <td>2.074792</td>\n",
       "    </tr>\n",
       "    <tr>\n",
       "      <th>5</th>\n",
       "      <td>443.67</td>\n",
       "      <td>442.334466</td>\n",
       "      <td>1.335534</td>\n",
       "    </tr>\n",
       "    <tr>\n",
       "      <th>6</th>\n",
       "      <td>467.35</td>\n",
       "      <td>463.985803</td>\n",
       "      <td>3.364197</td>\n",
       "    </tr>\n",
       "    <tr>\n",
       "      <th>7</th>\n",
       "      <td>478.42</td>\n",
       "      <td>478.122232</td>\n",
       "      <td>0.297768</td>\n",
       "    </tr>\n",
       "    <tr>\n",
       "      <th>8</th>\n",
       "      <td>475.98</td>\n",
       "      <td>472.037108</td>\n",
       "      <td>3.942892</td>\n",
       "    </tr>\n",
       "    <tr>\n",
       "      <th>9</th>\n",
       "      <td>477.50</td>\n",
       "      <td>473.017115</td>\n",
       "      <td>4.482885</td>\n",
       "    </tr>\n",
       "    <tr>\n",
       "      <th>10</th>\n",
       "      <td>453.02</td>\n",
       "      <td>459.583747</td>\n",
       "      <td>-6.563747</td>\n",
       "    </tr>\n",
       "    <tr>\n",
       "      <th>11</th>\n",
       "      <td>453.99</td>\n",
       "      <td>456.691986</td>\n",
       "      <td>-2.701986</td>\n",
       "    </tr>\n",
       "    <tr>\n",
       "      <th>12</th>\n",
       "      <td>440.29</td>\n",
       "      <td>438.716460</td>\n",
       "      <td>1.573540</td>\n",
       "    </tr>\n",
       "    <tr>\n",
       "      <th>13</th>\n",
       "      <td>451.28</td>\n",
       "      <td>443.196549</td>\n",
       "      <td>8.083451</td>\n",
       "    </tr>\n",
       "    <tr>\n",
       "      <th>14</th>\n",
       "      <td>433.99</td>\n",
       "      <td>435.418620</td>\n",
       "      <td>-1.428620</td>\n",
       "    </tr>\n",
       "    <tr>\n",
       "      <th>15</th>\n",
       "      <td>462.19</td>\n",
       "      <td>458.313800</td>\n",
       "      <td>3.876200</td>\n",
       "    </tr>\n",
       "    <tr>\n",
       "      <th>16</th>\n",
       "      <td>467.54</td>\n",
       "      <td>463.910453</td>\n",
       "      <td>3.629547</td>\n",
       "    </tr>\n",
       "    <tr>\n",
       "      <th>17</th>\n",
       "      <td>477.20</td>\n",
       "      <td>474.274159</td>\n",
       "      <td>2.925841</td>\n",
       "    </tr>\n",
       "    <tr>\n",
       "      <th>18</th>\n",
       "      <td>459.85</td>\n",
       "      <td>467.203339</td>\n",
       "      <td>-7.353339</td>\n",
       "    </tr>\n",
       "    <tr>\n",
       "      <th>19</th>\n",
       "      <td>464.30</td>\n",
       "      <td>472.275101</td>\n",
       "      <td>-7.975101</td>\n",
       "    </tr>\n",
       "    <tr>\n",
       "      <th>20</th>\n",
       "      <td>468.27</td>\n",
       "      <td>461.751934</td>\n",
       "      <td>6.518066</td>\n",
       "    </tr>\n",
       "    <tr>\n",
       "      <th>21</th>\n",
       "      <td>495.24</td>\n",
       "      <td>487.493510</td>\n",
       "      <td>7.746490</td>\n",
       "    </tr>\n",
       "    <tr>\n",
       "      <th>22</th>\n",
       "      <td>483.80</td>\n",
       "      <td>478.722463</td>\n",
       "      <td>5.077537</td>\n",
       "    </tr>\n",
       "    <tr>\n",
       "      <th>23</th>\n",
       "      <td>443.61</td>\n",
       "      <td>441.330387</td>\n",
       "      <td>2.279613</td>\n",
       "    </tr>\n",
       "    <tr>\n",
       "      <th>24</th>\n",
       "      <td>436.06</td>\n",
       "      <td>442.781316</td>\n",
       "      <td>-6.721316</td>\n",
       "    </tr>\n",
       "    <tr>\n",
       "      <th>25</th>\n",
       "      <td>443.25</td>\n",
       "      <td>434.635477</td>\n",
       "      <td>8.614523</td>\n",
       "    </tr>\n",
       "    <tr>\n",
       "      <th>26</th>\n",
       "      <td>464.16</td>\n",
       "      <td>467.863880</td>\n",
       "      <td>-3.703880</td>\n",
       "    </tr>\n",
       "    <tr>\n",
       "      <th>27</th>\n",
       "      <td>475.52</td>\n",
       "      <td>479.205795</td>\n",
       "      <td>-3.685795</td>\n",
       "    </tr>\n",
       "    <tr>\n",
       "      <th>28</th>\n",
       "      <td>484.41</td>\n",
       "      <td>482.953943</td>\n",
       "      <td>1.456057</td>\n",
       "    </tr>\n",
       "    <tr>\n",
       "      <th>29</th>\n",
       "      <td>437.89</td>\n",
       "      <td>435.266765</td>\n",
       "      <td>2.623235</td>\n",
       "    </tr>\n",
       "    <tr>\n",
       "      <th>30</th>\n",
       "      <td>445.11</td>\n",
       "      <td>448.697190</td>\n",
       "      <td>-3.587190</td>\n",
       "    </tr>\n",
       "  </tbody>\n",
       "</table>\n",
       "</div>"
      ],
      "text/plain": [
       "    Actual Value  Predicted Value  Difference\n",
       "0         463.26       467.348201   -4.088201\n",
       "1         444.37       444.113088    0.256912\n",
       "2         488.56       483.485474    5.074526\n",
       "3         446.48       450.539292   -4.059292\n",
       "4         473.90       471.825208    2.074792\n",
       "5         443.67       442.334466    1.335534\n",
       "6         467.35       463.985803    3.364197\n",
       "7         478.42       478.122232    0.297768\n",
       "8         475.98       472.037108    3.942892\n",
       "9         477.50       473.017115    4.482885\n",
       "10        453.02       459.583747   -6.563747\n",
       "11        453.99       456.691986   -2.701986\n",
       "12        440.29       438.716460    1.573540\n",
       "13        451.28       443.196549    8.083451\n",
       "14        433.99       435.418620   -1.428620\n",
       "15        462.19       458.313800    3.876200\n",
       "16        467.54       463.910453    3.629547\n",
       "17        477.20       474.274159    2.925841\n",
       "18        459.85       467.203339   -7.353339\n",
       "19        464.30       472.275101   -7.975101\n",
       "20        468.27       461.751934    6.518066\n",
       "21        495.24       487.493510    7.746490\n",
       "22        483.80       478.722463    5.077537\n",
       "23        443.61       441.330387    2.279613\n",
       "24        436.06       442.781316   -6.721316\n",
       "25        443.25       434.635477    8.614523\n",
       "26        464.16       467.863880   -3.703880\n",
       "27        475.52       479.205795   -3.685795\n",
       "28        484.41       482.953943    1.456057\n",
       "29        437.89       435.266765    2.623235\n",
       "30        445.11       448.697190   -3.587190"
      ]
     },
     "execution_count": 11,
     "metadata": {},
     "output_type": "execute_result"
    }
   ],
   "source": [
    "pred_y_df=pd.DataFrame({'Actual Value':y,'Predicted Value':y_pred, 'Difference':y-y_pred})\n",
    "pred_y_df[0:31]"
   ]
  },
  {
   "cell_type": "code",
   "execution_count": 13,
   "id": "a3ce0327",
   "metadata": {},
   "outputs": [
    {
     "data": {
      "text/plain": [
       "20.76957348898312"
      ]
     },
     "execution_count": 13,
     "metadata": {},
     "output_type": "execute_result"
    }
   ],
   "source": [
    "from sklearn.metrics import mean_squared_error\n",
    "mean_squared_error(y,y_pred)"
   ]
  }
 ],
 "metadata": {
  "kernelspec": {
   "display_name": "Python 3 (ipykernel)",
   "language": "python",
   "name": "python3"
  },
  "language_info": {
   "codemirror_mode": {
    "name": "ipython",
    "version": 3
   },
   "file_extension": ".py",
   "mimetype": "text/x-python",
   "name": "python",
   "nbconvert_exporter": "python",
   "pygments_lexer": "ipython3",
   "version": "3.9.12"
  }
 },
 "nbformat": 4,
 "nbformat_minor": 5
}
